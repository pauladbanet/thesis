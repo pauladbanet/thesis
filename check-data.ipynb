{
 "metadata": {
  "language_info": {
   "codemirror_mode": {
    "name": "ipython",
    "version": 3
   },
   "file_extension": ".py",
   "mimetype": "text/x-python",
   "name": "python",
   "nbconvert_exporter": "python",
   "pygments_lexer": "ipython3",
   "version": "3.6.9"
  },
  "orig_nbformat": 2,
  "kernelspec": {
   "name": "python3",
   "display_name": "Python 3",
   "language": "python"
  },
  "metadata": {
   "interpreter": {
    "hash": "31f2aee4e71d21fbe5cf8b01ff0e069b9275f58929596ceb00d14d90e3e16cd6"
   }
  }
 },
 "nbformat": 4,
 "nbformat_minor": 2,
 "cells": [
  {
   "cell_type": "code",
   "execution_count": 1,
   "metadata": {},
   "outputs": [],
   "source": [
    "from trainer.read_tfrecords import *\n",
    "from trainer.model_cnn import *\n",
    "import matplotlib.pyplot as plt\n",
    "from mpl_toolkits.mplot3d import axes3d, Axes3D\n",
    "import tensorflow as tf"
   ]
  },
  {
   "cell_type": "code",
   "execution_count": 2,
   "metadata": {},
   "outputs": [],
   "source": [
    "# Cloud files\n",
    "files = tf.io.gfile.listdir('gs://vggs')\n",
    "paths = ['gs://vggs/' + file for file in files]\n",
    "dataset = load_dataset_vgg(paths)  # First file from test batch_32"
   ]
  },
  {
   "cell_type": "code",
   "execution_count": 3,
   "metadata": {},
   "outputs": [],
   "source": [
    "# Local files\n",
    "files = tf.io.gfile.listdir('/dataset/vggish')\n",
    "paths = ['/dataset/vggish/' + file for file in files]\n",
    "dataset = load_dataset_vgg(paths)\n",
    "\n"
   ]
  },
  {
   "cell_type": "code",
   "execution_count": 3,
   "metadata": {},
   "outputs": [
    {
     "output_type": "stream",
     "name": "stdout",
     "text": [
      "Number of examples 6600\n"
     ]
    }
   ],
   "source": [
    "ds_size = sum(1 for _ in dataset)\n",
    "print('Number of examples', ds_size)"
   ]
  },
  {
   "cell_type": "code",
   "execution_count": 6,
   "metadata": {},
   "outputs": [],
   "source": [
    "fig = plt.figure(figsize=(8,8))\n",
    "ax = fig.add_subplot(1,1,1, projection='3d')\n",
    "ax.set_xlabel('Valence')\n",
    "ax.set_ylabel('Arousal')\n",
    "ax.set_zlabel('Dominance')\n",
    "for song in dataset.take(6000):\n",
    "    vad = song[1].numpy()\n",
    "    ax.scatter(vad[0], vad[1], vad[2])\n",
    "\n",
    "plt.savefig('vad_notnormalized0and1.png')"
   ]
  },
  {
   "cell_type": "code",
   "execution_count": 5,
   "metadata": {},
   "outputs": [],
   "source": [
    "fig = plt.figure(figsize=(8,8))\n",
    "ax = fig.add_subplot(1,1,1, projection='3d')\n",
    "ax.set_xlabel('Valence')\n",
    "ax.set_ylabel('Arousal')\n",
    "ax.set_zlabel('Dominance')\n",
    "ax.set_xlim(0,1)\n",
    "ax.set_ylim(0,1)\n",
    "ax.set_zlim(0,1)\n",
    "for song in dataset.take(6000):\n",
    "    vad = song[1].numpy()\n",
    "    ax.scatter(vad[0], vad[1], vad[2])\n",
    "\n",
    "plt.savefig('vad.png')\n"
   ]
  },
  {
   "cell_type": "code",
   "execution_count": 44,
   "metadata": {},
   "outputs": [
    {
     "output_type": "error",
     "ename": "IndexError",
     "evalue": "tuple index out of range",
     "traceback": [
      "\u001b[0;31m---------------------------------------------------------------------------\u001b[0m",
      "\u001b[0;31mIndexError\u001b[0m                                Traceback (most recent call last)",
      "\u001b[0;32m<ipython-input-44-526b4f3b5fd1>\u001b[0m in \u001b[0;36m<module>\u001b[0;34m\u001b[0m\n\u001b[1;32m      1\u001b[0m \u001b[0;31m# To check that all songs are long enough\u001b[0m\u001b[0;34m\u001b[0m\u001b[0;34m\u001b[0m\u001b[0;34m\u001b[0m\u001b[0m\n\u001b[1;32m      2\u001b[0m \u001b[0;32mfor\u001b[0m \u001b[0msong\u001b[0m \u001b[0;32min\u001b[0m \u001b[0mdataset\u001b[0m\u001b[0;34m:\u001b[0m\u001b[0;34m\u001b[0m\u001b[0;34m\u001b[0m\u001b[0m\n\u001b[0;32m----> 3\u001b[0;31m     \u001b[0mlenmfcc\u001b[0m \u001b[0;34m=\u001b[0m \u001b[0mint\u001b[0m\u001b[0;34m(\u001b[0m\u001b[0msong\u001b[0m\u001b[0;34m[\u001b[0m\u001b[0;36m3\u001b[0m\u001b[0;34m]\u001b[0m\u001b[0;34m.\u001b[0m\u001b[0mnumpy\u001b[0m\u001b[0;34m(\u001b[0m\u001b[0;34m)\u001b[0m\u001b[0;34m/\u001b[0m\u001b[0;36m15\u001b[0m\u001b[0;34m)\u001b[0m\u001b[0;34m\u001b[0m\u001b[0;34m\u001b[0m\u001b[0m\n\u001b[0m\u001b[1;32m      4\u001b[0m     \u001b[0;32mif\u001b[0m \u001b[0mlenmfcc\u001b[0m \u001b[0;34m<=\u001b[0m \u001b[0;36m15\u001b[0m\u001b[0;34m:\u001b[0m\u001b[0;34m\u001b[0m\u001b[0;34m\u001b[0m\u001b[0m\n\u001b[1;32m      5\u001b[0m         \u001b[0mid_song\u001b[0m \u001b[0;34m=\u001b[0m \u001b[0msong\u001b[0m\u001b[0;34m[\u001b[0m\u001b[0;36m2\u001b[0m\u001b[0;34m]\u001b[0m\u001b[0;34m.\u001b[0m\u001b[0mnumpy\u001b[0m\u001b[0;34m(\u001b[0m\u001b[0;34m)\u001b[0m\u001b[0;34m\u001b[0m\u001b[0;34m\u001b[0m\u001b[0m\n",
      "\u001b[0;31mIndexError\u001b[0m: tuple index out of range"
     ]
    }
   ],
   "source": [
    "# To check that all songs are long enough\n",
    "for song in dataset:        \n",
    "    lenmfcc = int(song[3].numpy()/15)\n",
    "    if lenmfcc <= 15:\n",
    "        id_song = song[2].numpy()\n",
    "        print('id_song',  id_song)\n",
    "        print(song[0].shape)\n",
    "        print('lenmfcc', lenmfcc)\n"
   ]
  },
  {
   "cell_type": "code",
   "execution_count": 17,
   "metadata": {},
   "outputs": [
    {
     "output_type": "stream",
     "name": "stdout",
     "text": [
      "1.0\n0.99\n0.991\n0.0\n0.046\n0.045\n"
     ]
    }
   ],
   "source": [
    "nrc = pd.read_csv('/dataset/csv_vad/NRC.csv')\n",
    "print(nrc['Valence'].max())\n",
    "print(nrc['Arousal'].max())\n",
    "print(nrc['Dominance'].max())\n",
    "\n",
    "print(nrc['Valence'].min())\n",
    "print(nrc['Arousal'].min())\n",
    "print(nrc['Dominance'].min())"
   ]
  },
  {
   "cell_type": "code",
   "execution_count": 5,
   "metadata": {},
   "outputs": [],
   "source": [
    "arr1 = []\n",
    "arr2 = []\n",
    "arr3 = []\n",
    "fig, axs = plt.subplots(3)\n",
    "fig.tight_layout(pad=1.0)\n",
    "\n",
    "for song in dataset:    \n",
    "    vad = song[1].numpy()\n",
    "    arr1.append(vad[0])\n",
    "    arr2.append(vad[1])\n",
    "    arr3.append(vad[2])\n",
    "   \n",
    "\n",
    "axs[0].hist(arr1, density=True, bins=200, range=[0, 1], color = \"#EC45A7\") #f51d9c - magenta vionlabs 322931 morado vionlabs\n",
    "axs[1].hist(arr2, density=True, bins=200, range=[0, 1], color = \"#EC45A7\")\n",
    "axs[2].hist(arr3, density=True, bins=200, range=[0, 1], color = \"#EC45A7\")\n",
    "axs[0].title.set_text('Valence')\n",
    "axs[1].title.set_text('Arousal')\n",
    "axs[2].title.set_text('Dominance')\n",
    "\n",
    "fig.savefig('/dataset/images/histograms.png')"
   ]
  },
  {
   "cell_type": "code",
   "execution_count": 8,
   "metadata": {},
   "outputs": [],
   "source": [
    "from google.cloud import storage\n",
    "storage_client = storage.Client('paula-309109')\n",
    "bucket = storage_client.get_bucket('mfccs')\n",
    "#blob = bucket.get_blob('mfccs200_0.tfrecords')"
   ]
  }
 ]
}