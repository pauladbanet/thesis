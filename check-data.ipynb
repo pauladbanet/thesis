{
 "metadata": {
  "language_info": {
   "codemirror_mode": {
    "name": "ipython",
    "version": 3
   },
   "file_extension": ".py",
   "mimetype": "text/x-python",
   "name": "python",
   "nbconvert_exporter": "python",
   "pygments_lexer": "ipython3",
   "version": "3.6.9"
  },
  "orig_nbformat": 2,
  "kernelspec": {
   "name": "python3",
   "display_name": "Python 3.6.9 64-bit",
   "metadata": {
    "interpreter": {
     "hash": "4cd7ab41f5fca4b9b44701077e38c5ffd31fe66a6cab21e0214b68d958d0e462"
    }
   }
  }
 },
 "nbformat": 4,
 "nbformat_minor": 2,
 "cells": [
  {
   "cell_type": "code",
   "execution_count": 1,
   "metadata": {},
   "outputs": [],
   "source": [
    "from __init__ import *\n",
    "from read_tfrecords import *\n"
   ]
  },
  {
   "cell_type": "code",
   "execution_count": 3,
   "metadata": {},
   "outputs": [
    {
     "output_type": "stream",
     "name": "stdout",
     "text": [
      "size 800\n"
     ]
    }
   ],
   "source": [
    "dataset = load_dataset([file_path0, file_path1, file_path2, file_path3])\n",
    "ds_size = sum(1 for _ in dataset)\n",
    "print('Number of examples', ds_size)\n"
   ]
  },
  {
   "cell_type": "code",
   "execution_count": 10,
   "metadata": {},
   "outputs": [
    {
     "output_type": "stream",
     "name": "stdout",
     "text": [
      "(<tf.Tensor: shape=(13, 323), dtype=float32, numpy=\narray([[-155.17055  , -158.98366  , -163.13234  , ...,  -72.96555  ,\n         -84.9091   ,  -62.92753  ],\n       [  99.1558   ,   97.957504 ,  101.321655 , ...,   79.96465  ,\n          75.07255  ,  118.89933  ],\n       [ -13.6925535,  -17.695889 ,  -14.263147 , ...,   38.364212 ,\n          39.44096  ,    4.8555803],\n       ...,\n       [ -21.740513 ,  -19.947079 ,  -14.766667 , ...,  -10.251581 ,\n         -13.638647 ,  -16.623444 ],\n       [  -8.620213 ,   -9.989223 ,   -2.4945712, ...,   -3.563071 ,\n          -4.4792986,   -7.765592 ],\n       [ -23.119873 ,  -19.910982 ,  -24.13578  , ...,  -16.961184 ,\n         -20.201849 ,  -15.877959 ]], dtype=float32)>, <tf.Tensor: shape=(), dtype=float32, numpy=0.7367468>)\nMFCC shape (13, 323)\nVAD shape ()\n"
     ]
    }
   ],
   "source": [
    "for song in dataset.take(1):\n",
    "    print(song)\n",
    "    print('MFCC shape', song[0].shape)\n",
    "    print('VAD shape', song[1].shape)"
   ]
  },
  {
   "cell_type": "code",
   "execution_count": null,
   "metadata": {},
   "outputs": [],
   "source": []
  },
  {
   "cell_type": "code",
   "execution_count": null,
   "metadata": {},
   "outputs": [],
   "source": []
  }
 ]
}