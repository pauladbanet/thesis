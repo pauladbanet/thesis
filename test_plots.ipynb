{
 "metadata": {
  "language_info": {
   "codemirror_mode": {
    "name": "ipython",
    "version": 3
   },
   "file_extension": ".py",
   "mimetype": "text/x-python",
   "name": "python",
   "nbconvert_exporter": "python",
   "pygments_lexer": "ipython3",
   "version": "3.6.9"
  },
  "orig_nbformat": 2,
  "kernelspec": {
   "name": "python3",
   "display_name": "Python 3",
   "language": "python"
  },
  "metadata": {
   "interpreter": {
    "hash": "31f2aee4e71d21fbe5cf8b01ff0e069b9275f58929596ceb00d14d90e3e16cd6"
   }
  }
 },
 "nbformat": 4,
 "nbformat_minor": 2,
 "cells": [
  {
   "cell_type": "code",
   "execution_count": 1,
   "metadata": {},
   "outputs": [],
   "source": [
    "from trainer.read_tfrecords import *\n",
    "from trainer.model_cnn import *\n",
    "import matplotlib.pyplot as plt\n",
    "import tensorflow as tf\n",
    "from google.cloud import storage\n",
    "import pickle5 as pickle\n",
    "import pandas as pd"
   ]
  },
  {
   "cell_type": "code",
   "execution_count": 11,
   "metadata": {},
   "outputs": [],
   "source": [
    "soundtracks6600 = pickle.load(open('/dataset/soundtracks6600.pkl', 'rb'))\n",
    "dataframes = [soundtracks6600[i:i+200] for i in range(0,soundtracks6600.shape[0],200)]\n",
    "df_test = dataframes[32]\n"
   ]
  },
  {
   "cell_type": "code",
   "execution_count": 3,
   "metadata": {},
   "outputs": [],
   "source": [
    "storage_client = storage.Client('paula-309109')\n",
    "bucket = storage_client.get_bucket('job_results')"
   ]
  },
  {
   "cell_type": "code",
   "execution_count": 2,
   "metadata": {},
   "outputs": [],
   "source": [
    "soundtracks6600 = pickle.load(open('/dataset/soundtracks6600.pkl', 'rb'))\n",
    "dataframes = [soundtracks6600[i:i+200] for i in range(0,soundtracks6600.shape[0],200)]\n",
    "df_test = dataframes[32]\n",
    "test_songs = get_dataset('gs://vggs/vgg_32.tfrecords', 1, test=True)\n"
   ]
  },
  {
   "cell_type": "code",
   "execution_count": 55,
   "metadata": {},
   "outputs": [
    {
     "output_type": "stream",
     "name": "stdout",
     "text": [
      "0.5291219\n0\n1\n2\n3\n"
     ]
    }
   ],
   "source": [
    "test_result = [[0.5291219 ]]\n",
    "test_result = ' '.join(map(str, test_result)).replace('[', '').replace(']', '')\n",
    "print(test_result)\n",
    "song_id = sountracks9000[sountracks9000['dominance_tags'].astype(str).str.contains(str(0.506373))]\n",
    "pieces_of_15 = int(song_id.duration.item()/15)\n",
    "for piece in range(0, pieces_of_15):\n",
    "    print(piece)\n",
    "valence = []"
   ]
  },
  {
   "cell_type": "code",
   "execution_count": 59,
   "metadata": {
    "tags": []
   },
   "outputs": [],
   "source": [
    "real_value = []\n",
    "for row in df_test.iterrows():\n",
    "    real_value.append(row[1]['dominance_tags'])"
   ]
  },
  {
   "cell_type": "code",
   "execution_count": 60,
   "metadata": {
    "tags": []
   },
   "outputs": [],
   "source": [
    "# Download test results saved when training the model \n",
    "jobid = 'lstm_vgg_15_dom' #lstm_vgg_15_aro lstm_vgg_15_dom\n",
    "test_results = []\n",
    "\n",
    "blob = bucket.blob(jobid + '/dom_predicted.json') # aro_predicted.json\n",
    "down_pred = json.loads(blob.download_as_string())\n",
    "\n",
    "for label in down_pred:\n",
    "    test_results.append(float(label[1]))\n"
   ]
  },
  {
   "cell_type": "code",
   "execution_count": 61,
   "metadata": {},
   "outputs": [],
   "source": [
    "jobid = 'Test_dom_lstmvggish'\n",
    "\n",
    "fig, ax = plt.subplots(1)\n",
    "ax.scatter(test_results, real_value)\n",
    "ax.plot([0, 1], [0, 1], transform=ax.transAxes, color='red', linestyle='--')\n",
    "ax.set_aspect('equal')\n",
    "ax.set_xlim(0,1)\n",
    "ax.set_ylim(0,1)\n",
    "ax.set_xlabel('Predicted')\n",
    "ax.set_ylabel('True')\n",
    "\n",
    "plt.savefig('/dataset/images/test_plots/' + jobid + '.png')"
   ]
  },
  {
   "cell_type": "code",
   "execution_count": 5,
   "metadata": {},
   "outputs": [
    {
     "output_type": "error",
     "ename": "NotFound",
     "evalue": "404 GET https://storage.googleapis.com/download/storage/v1/b/job_results/o/lstm_vgg_15_valence%2F1_predicted.txt?alt=media: No such object: job_results/lstm_vgg_15_valence/1_predicted.txt: ('Request failed with status code', 404, 'Expected one of', <HTTPStatus.OK: 200>, <HTTPStatus.PARTIAL_CONTENT: 206>)",
     "traceback": [
      "\u001b[0;31m---------------------------------------------------------------------------\u001b[0m",
      "\u001b[0;31mInvalidResponse\u001b[0m                           Traceback (most recent call last)",
      "\u001b[0;32m/usr/local/lib/python3.6/dist-packages/google/cloud/storage/client.py\u001b[0m in \u001b[0;36mdownload_blob_to_file\u001b[0;34m(self, blob_or_uri, file_obj, start, end, raw_download, if_generation_match, if_generation_not_match, if_metageneration_match, if_metageneration_not_match, timeout, checksum)\u001b[0m\n\u001b[1;32m    727\u001b[0m                 \u001b[0mtimeout\u001b[0m\u001b[0;34m=\u001b[0m\u001b[0mtimeout\u001b[0m\u001b[0;34m,\u001b[0m\u001b[0;34m\u001b[0m\u001b[0;34m\u001b[0m\u001b[0m\n\u001b[0;32m--> 728\u001b[0;31m                 \u001b[0mchecksum\u001b[0m\u001b[0;34m=\u001b[0m\u001b[0mchecksum\u001b[0m\u001b[0;34m,\u001b[0m\u001b[0;34m\u001b[0m\u001b[0;34m\u001b[0m\u001b[0m\n\u001b[0m\u001b[1;32m    729\u001b[0m             )\n",
      "\u001b[0;32m/usr/local/lib/python3.6/dist-packages/google/cloud/storage/blob.py\u001b[0m in \u001b[0;36m_do_download\u001b[0;34m(self, transport, file_obj, download_url, headers, start, end, raw_download, timeout, checksum)\u001b[0m\n\u001b[1;32m    960\u001b[0m             )\n\u001b[0;32m--> 961\u001b[0;31m             \u001b[0mresponse\u001b[0m \u001b[0;34m=\u001b[0m \u001b[0mdownload\u001b[0m\u001b[0;34m.\u001b[0m\u001b[0mconsume\u001b[0m\u001b[0;34m(\u001b[0m\u001b[0mtransport\u001b[0m\u001b[0;34m,\u001b[0m \u001b[0mtimeout\u001b[0m\u001b[0;34m=\u001b[0m\u001b[0mtimeout\u001b[0m\u001b[0;34m)\u001b[0m\u001b[0;34m\u001b[0m\u001b[0;34m\u001b[0m\u001b[0m\n\u001b[0m\u001b[1;32m    962\u001b[0m             \u001b[0mself\u001b[0m\u001b[0;34m.\u001b[0m\u001b[0m_extract_headers_from_download\u001b[0m\u001b[0;34m(\u001b[0m\u001b[0mresponse\u001b[0m\u001b[0;34m)\u001b[0m\u001b[0;34m\u001b[0m\u001b[0;34m\u001b[0m\u001b[0m\n",
      "\u001b[0;32m/usr/local/lib/python3.6/dist-packages/google/resumable_media/requests/download.py\u001b[0m in \u001b[0;36mconsume\u001b[0;34m(self, transport, timeout)\u001b[0m\n\u001b[1;32m    167\u001b[0m \u001b[0;34m\u001b[0m\u001b[0m\n\u001b[0;32m--> 168\u001b[0;31m         \u001b[0mself\u001b[0m\u001b[0;34m.\u001b[0m\u001b[0m_process_response\u001b[0m\u001b[0;34m(\u001b[0m\u001b[0mresult\u001b[0m\u001b[0;34m)\u001b[0m\u001b[0;34m\u001b[0m\u001b[0;34m\u001b[0m\u001b[0m\n\u001b[0m\u001b[1;32m    169\u001b[0m \u001b[0;34m\u001b[0m\u001b[0m\n",
      "\u001b[0;32m/usr/local/lib/python3.6/dist-packages/google/resumable_media/_download.py\u001b[0m in \u001b[0;36m_process_response\u001b[0;34m(self, response)\u001b[0m\n\u001b[1;32m    185\u001b[0m         _helpers.require_status_code(\n\u001b[0;32m--> 186\u001b[0;31m             \u001b[0mresponse\u001b[0m\u001b[0;34m,\u001b[0m \u001b[0m_ACCEPTABLE_STATUS_CODES\u001b[0m\u001b[0;34m,\u001b[0m \u001b[0mself\u001b[0m\u001b[0;34m.\u001b[0m\u001b[0m_get_status_code\u001b[0m\u001b[0;34m\u001b[0m\u001b[0;34m\u001b[0m\u001b[0m\n\u001b[0m\u001b[1;32m    187\u001b[0m         )\n",
      "\u001b[0;32m/usr/local/lib/python3.6/dist-packages/google/resumable_media/_helpers.py\u001b[0m in \u001b[0;36mrequire_status_code\u001b[0;34m(response, status_codes, get_status_code, callback)\u001b[0m\n\u001b[1;32m    103\u001b[0m             \u001b[0;34mu\"Expected one of\"\u001b[0m\u001b[0;34m,\u001b[0m\u001b[0;34m\u001b[0m\u001b[0;34m\u001b[0m\u001b[0m\n\u001b[0;32m--> 104\u001b[0;31m             \u001b[0;34m*\u001b[0m\u001b[0mstatus_codes\u001b[0m\u001b[0;34m\u001b[0m\u001b[0;34m\u001b[0m\u001b[0m\n\u001b[0m\u001b[1;32m    105\u001b[0m         )\n",
      "\u001b[0;31mInvalidResponse\u001b[0m: ('Request failed with status code', 404, 'Expected one of', <HTTPStatus.OK: 200>, <HTTPStatus.PARTIAL_CONTENT: 206>)",
      "\nDuring handling of the above exception, another exception occurred:\n",
      "\u001b[0;31mNotFound\u001b[0m                                  Traceback (most recent call last)",
      "\u001b[0;32m<ipython-input-5-a3327a09e3c5>\u001b[0m in \u001b[0;36m<module>\u001b[0;34m\u001b[0m\n\u001b[1;32m      6\u001b[0m \u001b[0;32mfor\u001b[0m \u001b[0mnum\u001b[0m \u001b[0;32min\u001b[0m \u001b[0mrange\u001b[0m\u001b[0;34m(\u001b[0m\u001b[0;36m1\u001b[0m\u001b[0;34m,\u001b[0m\u001b[0;36m10\u001b[0m\u001b[0;34m)\u001b[0m\u001b[0;34m:\u001b[0m\u001b[0;34m\u001b[0m\u001b[0;34m\u001b[0m\u001b[0m\n\u001b[1;32m      7\u001b[0m     \u001b[0mblob\u001b[0m \u001b[0;34m=\u001b[0m \u001b[0mbucket\u001b[0m\u001b[0;34m.\u001b[0m\u001b[0mblob\u001b[0m\u001b[0;34m(\u001b[0m\u001b[0mjobid\u001b[0m \u001b[0;34m+\u001b[0m \u001b[0;34m'/'\u001b[0m \u001b[0;34m+\u001b[0m \u001b[0mstr\u001b[0m\u001b[0;34m(\u001b[0m\u001b[0mnum\u001b[0m\u001b[0;34m)\u001b[0m \u001b[0;34m+\u001b[0m \u001b[0;34m'_predicted.txt'\u001b[0m\u001b[0;34m)\u001b[0m\u001b[0;34m\u001b[0m\u001b[0;34m\u001b[0m\u001b[0m\n\u001b[0;32m----> 8\u001b[0;31m     \u001b[0mdown_pred\u001b[0m \u001b[0;34m=\u001b[0m \u001b[0mblob\u001b[0m\u001b[0;34m.\u001b[0m\u001b[0mdownload_as_string\u001b[0m\u001b[0;34m(\u001b[0m\u001b[0;34m)\u001b[0m\u001b[0;34m\u001b[0m\u001b[0;34m\u001b[0m\u001b[0m\n\u001b[0m\u001b[1;32m      9\u001b[0m     \u001b[0mdown_pred\u001b[0m \u001b[0;34m=\u001b[0m \u001b[0mstr\u001b[0m\u001b[0;34m(\u001b[0m\u001b[0mdown_pred\u001b[0m\u001b[0;34m)\u001b[0m\u001b[0;34m\u001b[0m\u001b[0;34m\u001b[0m\u001b[0m\n\u001b[1;32m     10\u001b[0m \u001b[0;34m\u001b[0m\u001b[0m\n",
      "\u001b[0;32m/usr/local/lib/python3.6/dist-packages/google/cloud/storage/blob.py\u001b[0m in \u001b[0;36mdownload_as_string\u001b[0;34m(self, client, start, end, raw_download, if_generation_match, if_generation_not_match, if_metageneration_match, if_metageneration_not_match, timeout)\u001b[0m\n\u001b[1;32m   1394\u001b[0m             \u001b[0mif_metageneration_match\u001b[0m\u001b[0;34m=\u001b[0m\u001b[0mif_metageneration_match\u001b[0m\u001b[0;34m,\u001b[0m\u001b[0;34m\u001b[0m\u001b[0;34m\u001b[0m\u001b[0m\n\u001b[1;32m   1395\u001b[0m             \u001b[0mif_metageneration_not_match\u001b[0m\u001b[0;34m=\u001b[0m\u001b[0mif_metageneration_not_match\u001b[0m\u001b[0;34m,\u001b[0m\u001b[0;34m\u001b[0m\u001b[0;34m\u001b[0m\u001b[0m\n\u001b[0;32m-> 1396\u001b[0;31m             \u001b[0mtimeout\u001b[0m\u001b[0;34m=\u001b[0m\u001b[0mtimeout\u001b[0m\u001b[0;34m,\u001b[0m\u001b[0;34m\u001b[0m\u001b[0;34m\u001b[0m\u001b[0m\n\u001b[0m\u001b[1;32m   1397\u001b[0m         )\n\u001b[1;32m   1398\u001b[0m \u001b[0;34m\u001b[0m\u001b[0m\n",
      "\u001b[0;32m/usr/local/lib/python3.6/dist-packages/google/cloud/storage/blob.py\u001b[0m in \u001b[0;36mdownload_as_bytes\u001b[0;34m(self, client, start, end, raw_download, if_generation_match, if_generation_not_match, if_metageneration_match, if_metageneration_not_match, timeout, checksum)\u001b[0m\n\u001b[1;32m   1305\u001b[0m             \u001b[0mif_metageneration_not_match\u001b[0m\u001b[0;34m=\u001b[0m\u001b[0mif_metageneration_not_match\u001b[0m\u001b[0;34m,\u001b[0m\u001b[0;34m\u001b[0m\u001b[0;34m\u001b[0m\u001b[0m\n\u001b[1;32m   1306\u001b[0m             \u001b[0mtimeout\u001b[0m\u001b[0;34m=\u001b[0m\u001b[0mtimeout\u001b[0m\u001b[0;34m,\u001b[0m\u001b[0;34m\u001b[0m\u001b[0;34m\u001b[0m\u001b[0m\n\u001b[0;32m-> 1307\u001b[0;31m             \u001b[0mchecksum\u001b[0m\u001b[0;34m=\u001b[0m\u001b[0mchecksum\u001b[0m\u001b[0;34m,\u001b[0m\u001b[0;34m\u001b[0m\u001b[0;34m\u001b[0m\u001b[0m\n\u001b[0m\u001b[1;32m   1308\u001b[0m         )\n\u001b[1;32m   1309\u001b[0m         \u001b[0;32mreturn\u001b[0m \u001b[0mstring_buffer\u001b[0m\u001b[0;34m.\u001b[0m\u001b[0mgetvalue\u001b[0m\u001b[0;34m(\u001b[0m\u001b[0;34m)\u001b[0m\u001b[0;34m\u001b[0m\u001b[0;34m\u001b[0m\u001b[0m\n",
      "\u001b[0;32m/usr/local/lib/python3.6/dist-packages/google/cloud/storage/client.py\u001b[0m in \u001b[0;36mdownload_blob_to_file\u001b[0;34m(self, blob_or_uri, file_obj, start, end, raw_download, if_generation_match, if_generation_not_match, if_metageneration_match, if_metageneration_not_match, timeout, checksum)\u001b[0m\n\u001b[1;32m    729\u001b[0m             )\n\u001b[1;32m    730\u001b[0m         \u001b[0;32mexcept\u001b[0m \u001b[0mresumable_media\u001b[0m\u001b[0;34m.\u001b[0m\u001b[0mInvalidResponse\u001b[0m \u001b[0;32mas\u001b[0m \u001b[0mexc\u001b[0m\u001b[0;34m:\u001b[0m\u001b[0;34m\u001b[0m\u001b[0;34m\u001b[0m\u001b[0m\n\u001b[0;32m--> 731\u001b[0;31m             \u001b[0m_raise_from_invalid_response\u001b[0m\u001b[0;34m(\u001b[0m\u001b[0mexc\u001b[0m\u001b[0;34m)\u001b[0m\u001b[0;34m\u001b[0m\u001b[0;34m\u001b[0m\u001b[0m\n\u001b[0m\u001b[1;32m    732\u001b[0m \u001b[0;34m\u001b[0m\u001b[0m\n\u001b[1;32m    733\u001b[0m     def list_blobs(\n",
      "\u001b[0;32m/usr/local/lib/python3.6/dist-packages/google/cloud/storage/blob.py\u001b[0m in \u001b[0;36m_raise_from_invalid_response\u001b[0;34m(error)\u001b[0m\n\u001b[1;32m   4064\u001b[0m     )\n\u001b[1;32m   4065\u001b[0m \u001b[0;34m\u001b[0m\u001b[0m\n\u001b[0;32m-> 4066\u001b[0;31m     \u001b[0;32mraise\u001b[0m \u001b[0mexceptions\u001b[0m\u001b[0;34m.\u001b[0m\u001b[0mfrom_http_status\u001b[0m\u001b[0;34m(\u001b[0m\u001b[0mresponse\u001b[0m\u001b[0;34m.\u001b[0m\u001b[0mstatus_code\u001b[0m\u001b[0;34m,\u001b[0m \u001b[0mmessage\u001b[0m\u001b[0;34m,\u001b[0m \u001b[0mresponse\u001b[0m\u001b[0;34m=\u001b[0m\u001b[0mresponse\u001b[0m\u001b[0;34m)\u001b[0m\u001b[0;34m\u001b[0m\u001b[0;34m\u001b[0m\u001b[0m\n\u001b[0m\u001b[1;32m   4067\u001b[0m \u001b[0;34m\u001b[0m\u001b[0m\n\u001b[1;32m   4068\u001b[0m \u001b[0;34m\u001b[0m\u001b[0m\n",
      "\u001b[0;31mNotFound\u001b[0m: 404 GET https://storage.googleapis.com/download/storage/v1/b/job_results/o/lstm_vgg_15_valence%2F1_predicted.txt?alt=media: No such object: job_results/lstm_vgg_15_valence/1_predicted.txt: ('Request failed with status code', 404, 'Expected one of', <HTTPStatus.OK: 200>, <HTTPStatus.PARTIAL_CONTENT: 206>)"
     ]
    }
   ],
   "source": [
    "# Download test results saved when training the model \n",
    "jobid = 'lstm_vgg_15_valence' #lstm_vgg_15_aro lstm_vgg_15_dom\n",
    "arr_pred_all = []\n",
    "arr_real_all = []\n",
    "\n",
    "for num in range(1,10):\n",
    "    blob = bucket.blob(jobid + '/' + str(num) + '_predicted.txt')\n",
    "    down_pred = blob.download_as_string()\n",
    "    down_pred = str(down_pred)\n",
    "\n",
    "    arr_pred = down_pred[2:-2].split(',')\n",
    "    for i in range(0, len(arr_pred)):\n",
    "        arr_pred[i] = float(arr_pred[i])\n",
    "    arr_pred_all = arr_pred_all + arr_pred\n",
    "\n",
    "    blob = bucket.blob(jobid + '/' + str(num) + '_real.txt')\n",
    "    down_real = blob.download_as_string()\n",
    "    down_real = str(down_real).replace(' ', ',')\n",
    "\n",
    "    arr_real = down_real[2:-1].split(',')\n",
    "    for i in range(0, len(arr_real)):\n",
    "        arr_real[i] = float(arr_real[i])\n",
    "    arr_real_all = arr_real_all+ arr_real\n"
   ]
  },
  {
   "cell_type": "code",
   "execution_count": 8,
   "metadata": {},
   "outputs": [],
   "source": [
    "songs = pd.DataFrame(columns=sountracks9000.columns)\n",
    "# First to songs batch_32, first two from test 8772 8774\n",
    "real_val = [0.6411904, 0.6497916,0.677298,0.6295777,0.6895458]\n",
    "for val in real_val:\n",
    "    song = sountracks9000[sountracks9000['valence_tags'].astype(str).str.contains(str(val))]\n",
    "    songs = songs.append(song)"
   ]
  },
  {
   "cell_type": "code",
   "execution_count": null,
   "metadata": {},
   "outputs": [],
   "source": []
  }
 ]
}